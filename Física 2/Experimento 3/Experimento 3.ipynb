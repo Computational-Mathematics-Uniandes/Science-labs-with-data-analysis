{
 "cells": [
  {
   "cell_type": "markdown",
   "id": "4a07e914",
   "metadata": {},
   "source": [
    "# Datos"
   ]
  },
  {
   "cell_type": "code",
   "execution_count": 58,
   "id": "e1e7f60c",
   "metadata": {},
   "outputs": [],
   "source": [
    "import matplotlib.pyplot as plt\n",
    "import pandas as pd\n",
    "from scipy.optimize import curve_fit\n",
    "import numpy as np"
   ]
  },
  {
   "cell_type": "code",
   "execution_count": 59,
   "id": "8ddfd51c",
   "metadata": {},
   "outputs": [
    {
     "name": "stdout",
     "output_type": "stream",
     "text": [
      "   V(mL)     P(kPa)      T(C)  1/V(1/mL)\n",
      "0     16  71.325601  9.552031   0.062500\n",
      "1     14  72.276385  9.555319   0.071429\n",
      "2     12  73.144320  9.565182   0.083333\n",
      "3     10  73.976748  9.571756   0.100000\n",
      "4      8  74.895971  9.604619   0.125000\n",
      "5      6  75.704728  9.586547   0.166667\n",
      "6      4  76.722580  9.619401   0.250000\n",
      "-----------------------------------------------------\n",
      "   V(mL)     P(KPa)       T(C)\n",
      "0      4  82.510129  31.963705\n",
      "1      4  82.024874  29.614123\n",
      "2      4  81.776329  28.160056\n",
      "3      4  81.622468  27.180295\n",
      "4      4  81.468607  25.742348\n",
      "5      4  81.204281  24.762555\n",
      "6      4  81.074091  23.633722\n"
     ]
    }
   ],
   "source": [
    "datosPvsV=pd.read_csv('datos P vs V.txt')\n",
    "datosPvsV.name='P vs v'\n",
    "\n",
    "datosPvsT=pd.read_csv('datos P vs T.txt')\n",
    "datosPvsT.name='P vs T'\n",
    "\n",
    "print(datosPvsV)\n",
    "print('-----------------------------------------------------')\n",
    "print(datosPvsT)"
   ]
  },
  {
   "cell_type": "markdown",
   "id": "1b0566d2",
   "metadata": {},
   "source": [
    "## Análisis Cuantitativo"
   ]
  },
  {
   "cell_type": "markdown",
   "id": "e98dd45f",
   "metadata": {},
   "source": [
    "Gráficas"
   ]
  },
  {
   "cell_type": "code",
   "execution_count": 60,
   "id": "86503eac",
   "metadata": {},
   "outputs": [
    {
     "data": {
      "text/plain": [
       "Text(0.5, 1.0, 'P vs 1/V')"
      ]
     },
     "execution_count": 60,
     "metadata": {},
     "output_type": "execute_result"
    },
    {
     "data": {
      "image/png": "[encoded data removed]",
      "text/plain": [
       "<Figure size 432x288 with 3 Axes>"
      ]
     },
     "metadata": {
      "needs_background": "light"
     },
     "output_type": "display_data"
    }
   ],
   "source": [
    "fig, ax = plt.subplots(1,3)\n",
    "\n",
    "ax[0].scatter(datosPvsV['V(mL)'],datosPvsV['P(kPa)'])\n",
    "ax[0].set_ylabel('P(KPa)')\n",
    "ax[0].set_xlabel('V(mL)')\n",
    "ax[0].set_title('P vs V')\n",
    "\n",
    "ax[1].scatter(datosPvsT['T(C)'],datosPvsT['P(KPa)'],color='red')\n",
    "ax[1].set_ylabel('P(KPa)')\n",
    "ax[1].set_xlabel('T(C)')\n",
    "ax[1].set_title('P vs T')\n",
    "\n",
    "ax[2].scatter(datosPvsV['1/V(1/mL)'],datosPvsV['P(kPa)'],color='green')\n",
    "ax[2].set_ylabel('P(KPa)')\n",
    "ax[2].set_xlabel('1/V(1/mL)')\n",
    "ax[2].set_title('P vs 1/V')\n"
   ]
  },
  {
   "cell_type": "markdown",
   "id": "d194db08",
   "metadata": {},
   "source": [
    " Ajuste datos P vs V (Logger Pro):"
   ]
  },
  {
   "cell_type": "markdown",
   "id": "695080e4",
   "metadata": {},
   "source": [
    "P = A*V^B\n",
    "A: 82,15 +/- 0,6947(KPa/mL)\n",
    "B: -0,04662 +/- 0,003951(adimensional)\n",
    "Correlation: 0,9859"
   ]
  },
  {
   "cell_type": "markdown",
   "id": "444763a8",
   "metadata": {},
   "source": [
    "El exponente al ser negativo, nos indica la relación inversamente de crecimiento entre el volumen y la presión, a mayor magnitud, mayor es esta relación inversa de crecimiento; es decir para un mismo incremento de volumen habrá una mayor disminución de presión, se cumple u resultado similar si la la magnitud es menor."
   ]
  },
  {
   "cell_type": "markdown",
   "id": "9ba94343",
   "metadata": {},
   "source": [
    "Ajuste de datos lineal P vs V:"
   ]
  },
  {
   "cell_type": "markdown",
   "id": "0cd5c004",
   "metadata": {},
   "source": [
    "$$P=\\frac{1}{V}m+b$$"
   ]
  },
  {
   "cell_type": "code",
   "execution_count": 61,
   "id": "78415542",
   "metadata": {},
   "outputs": [
    {
     "name": "stdout",
     "output_type": "stream",
     "text": [
      "Hacemos una ajuste lineal P vs V.\n",
      " \n",
      "El ajuste es P(1/V)=m*(1/V)+b,tiene como parametros:\n",
      " \n",
      "m=(26.72+-4.823)KPa*mL, b=(70.73+-0.662)kpa.\n",
      "Gráficando el ajuste y comparando los puntos experimentales tenemos:\n"
     ]
    },
    {
     "data": {
      "text/plain": [
       "Text(0.5, 1.0, 'P vs V')"
      ]
     },
     "execution_count": 61,
     "metadata": {},
     "output_type": "execute_result"
    },
    {
     "data": {
      "image/png": "[encoded data removed]",
      "text/plain": [
       "<Figure size 432x288 with 1 Axes>"
      ]
     },
     "metadata": {
      "needs_background": "light"
     },
     "output_type": "display_data"
    }
   ],
   "source": [
    "def func(x, m, b):\n",
    "    return m*x+b\n",
    "\n",
    "print('Hacemos una ajuste lineal P vs V.')\n",
    "print(' ')\n",
    "ajuste,covarianza= curve_fit(func,datosPvsV['1/V(1/mL)'].tolist(),datosPvsV['P(kPa)'].tolist())\n",
    "desviacionestandar=np.sqrt(np.diag(covarianza))\n",
    "m=round(ajuste[0],2)\n",
    "b=round(ajuste[1],2)\n",
    "Δm=round(desviacionestandar[0],3)\n",
    "Δb=round(desviacionestandar[1],3)\n",
    "print('El ajuste es P(1/V)=m*(1/V)+b,tiene como parametros:')\n",
    "print(' ')\n",
    "print(str('m=(')+str(m)+str('+-')+str(Δm)+str(')KPa*mL,'),str('b=(')+str(b)+str('+-')+str(Δb)+str(')kpa.'))\n",
    "print('Gráficando el ajuste y comparando los puntos experimentales tenemos:')\n",
    "\n",
    "fig,ax = plt.subplots() \n",
    "x0=datosPvsV['V(mL)'].tolist()[0]\n",
    "xf=datosPvsV['V(mL)'].tolist()[-1]\n",
    "x=np.linspace(x0,xf,1000)\n",
    "ax.scatter(datosPvsV['V(mL)'],datosPvsV['P(kPa)'],color='red')\n",
    "ax.plot(x,(1/x)*m+b,color='blue')\n",
    "ax.set_xlabel('v(mL)')  \n",
    "ax.set_ylabel('P(KPa)')  \n",
    "ax.set_title('P vs V')\n"
   ]
  },
  {
   "cell_type": "markdown",
   "id": "6aed4252",
   "metadata": {},
   "source": [
    "m significa la variación de la presión con el inverso de la temperatura."
   ]
  },
  {
   "cell_type": "markdown",
   "id": "912c1214",
   "metadata": {},
   "source": [
    "Ajuste de datos lineal P vs T:"
   ]
  },
  {
   "cell_type": "markdown",
   "id": "66d86bf1",
   "metadata": {},
   "source": [
    "$$P=mT+b$$"
   ]
  },
  {
   "cell_type": "code",
   "execution_count": 97,
   "id": "b932b1b2",
   "metadata": {},
   "outputs": [
    {
     "name": "stdout",
     "output_type": "stream",
     "text": [
      "Hacemos una ajuste lineal P vs T.\n",
      " \n",
      "El ajuste es P(T)=m*(T)+b,tiene como parámetros:\n",
      " \n",
      "m=(0.17+-0.007)KPa/C, b=(77.04+-0.19)KPa.\n",
      "Gráficando el ajuste y comparando los puntos experimentales tenemos:\n"
     ]
    },
    {
     "data": {
      "text/plain": [
       "Text(0.5, 1.0, 'P vs T')"
      ]
     },
     "execution_count": 97,
     "metadata": {},
     "output_type": "execute_result"
    },
    {
     "data": {
      "image/png": "[encoded data removed]",
      "text/plain": [
       "<Figure size 432x288 with 1 Axes>"
      ]
     },
     "metadata": {
      "needs_background": "light"
     },
     "output_type": "display_data"
    }
   ],
   "source": [
    "def func(x, m, b):\n",
    "    return m*x+b\n",
    "\n",
    "print('Hacemos una ajuste lineal P vs T.')\n",
    "print(' ')\n",
    "ajuste,covarianza= curve_fit(func,datosPvsT['T(C)'].tolist(),datosPvsT['P(KPa)'].tolist())\n",
    "desviacionestandar=np.sqrt(np.diag(covarianza))\n",
    "m=round(ajuste[0],2)\n",
    "b=round(ajuste[1],2)\n",
    "Δm=round(desviacionestandar[0],3)\n",
    "Δb=round(desviacionestandar[1],3)\n",
    "print('El ajuste es P(T)=m*(T)+b,tiene como parámetros:')\n",
    "print(' ')\n",
    "print(str('m=(')+str(m)+str('+-')+str(Δm)+str(')KPa/C,'),str('b=(')+str(b)+str('+-')+str(Δb)+str(')KPa.'))\n",
    "print('Gráficando el ajuste y comparando los puntos experimentales tenemos:')\n",
    "\n",
    "fig,ax = plt.subplots() \n",
    "x0=datosPvsT['T(C)'].tolist()[0]\n",
    "xf=datosPvsT['T(C)'].tolist()[-1]\n",
    "x=np.linspace(x0,xf,1000)\n",
    "ax.scatter(datosPvsT['T(C)'],datosPvsT['P(KPa)'],color='red')\n",
    "ax.plot(x,x*m+b,color='blue')\n",
    "ax.set_xlabel('T(C)')  \n",
    "ax.set_ylabel('P(KPa)')  \n",
    "ax.set_title('P vs T')\n"
   ]
  },
  {
   "cell_type": "markdown",
   "id": "dcd7b420",
   "metadata": {},
   "source": [
    "m significa en este caso el aumento de presión a cada unidad de temperatura"
   ]
  },
  {
   "cell_type": "markdown",
   "id": "de89bc76",
   "metadata": {},
   "source": [
    "Estimando la densidad del aire"
   ]
  },
  {
   "cell_type": "markdown",
   "id": "1ad08ab2",
   "metadata": {},
   "source": [
    "$$P=mT+b$$\n",
    "$$P=\\frac{R \\rho }{M}T$$\n"
   ]
  },
  {
   "cell_type": "code",
   "execution_count": 96,
   "id": "a85eac43",
   "metadata": {},
   "outputs": [
    {
     "name": "stdout",
     "output_type": "stream",
     "text": [
      "Hacemos una ajuste lineal P vs T.\n",
      " \n",
      "El ajuste es P(T)=m*(T)+b,tiene como parámetros:\n",
      " \n",
      "m=(0.27+-0.0)KPa/C,\n",
      "De la ecuación anterior, la densidad del aire es: 0.9406807794082273 kg/m**3\n",
      "Gráficando el ajuste y comparando los puntos experimentales tenemos:\n"
     ]
    },
    {
     "data": {
      "text/plain": [
       "Text(0.5, 1.0, 'P vs T')"
      ]
     },
     "execution_count": 96,
     "metadata": {},
     "output_type": "execute_result"
    },
    {
     "data": {
      "image/png": "[encoded data removed]",
      "text/plain": [
       "<Figure size 432x288 with 1 Axes>"
      ]
     },
     "metadata": {
      "needs_background": "light"
     },
     "output_type": "display_data"
    }
   ],
   "source": [
    "def func(x, m):\n",
    "    return m*x\n",
    "\n",
    "print('Hacemos una ajuste lineal P vs T.')\n",
    "print(' ')\n",
    "ajuste,covarianza= curve_fit(func,(datosPvsT['T(C)']+273).tolist(),datosPvsT['P(KPa)'].tolist())\n",
    "desviacionestandar=np.sqrt(np.diag(covarianza))\n",
    "m=round(ajuste[0],2)\n",
    "Δm=round(desviacionestandar[0],3)\n",
    "print('El ajuste es P(T)=m*(T)+b,tiene como parámetros:')\n",
    "print(' ')\n",
    "print(str('m=(')+str(m)+str('+-')+str(Δm)+str(')KPa/C,'))\n",
    "R=8.314#J/mol*k\n",
    "M=28.966#kg/mol\n",
    "rho=(m*M)*(1/R)\n",
    "#m tiene unidades Kpa/C=kPa/K=(10**3)Pa/K\n",
    "#rho tiene unidades (kg/mol)*(10**3)Pa/K*(mol*K/J)=(10**3)*kg*Pa/J=kg*(Newton/m**2)*(1/Newton*m)=kg/m**3*(10**3)\n",
    "print('De la ecuación anterior, la densidad del aire es:',rho,'kg/m**3')\n",
    "print('Gráficando el ajuste y comparando los puntos experimentales tenemos:')\n",
    "\n",
    "fig,ax = plt.subplots() \n",
    "x0=(datosPvsT['T(C)']+273).tolist()[0]\n",
    "xf=(datosPvsT['T(C)']+273).tolist()[-1]\n",
    "x=np.linspace(x0,xf,1000)\n",
    "ax.scatter((datosPvsT['T(C)']+273),datosPvsT['P(KPa)'],color='red')\n",
    "ax.plot(x,x*m,color='blue')\n",
    "ax.set_xlabel('T(C)')  \n",
    "ax.set_ylabel('P(KPa)')  \n",
    "ax.set_title('P vs T')\n"
   ]
  },
  {
   "cell_type": "code",
   "execution_count": null,
   "id": "aed82460",
   "metadata": {},
   "outputs": [],
   "source": []
  }
 ],
 "metadata": {
  "kernelspec": {
   "display_name": "Python 3",
   "language": "python",
   "name": "python3"
  },
  "language_info": {
   "codemirror_mode": {
    "name": "ipython",
    "version": 3
   },
   "file_extension": ".py",
   "mimetype": "text/x-python",
   "name": "python",
   "nbconvert_exporter": "python",
   "pygments_lexer": "ipython3",
   "version": "3.8.8"
  }
 },
 "nbformat": 4,
 "nbformat_minor": 5
}
